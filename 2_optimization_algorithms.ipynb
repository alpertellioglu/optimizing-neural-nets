{
 "cells": [
  {
   "cell_type": "code",
   "execution_count": 1,
   "id": "21c9818c-a948-43fe-a0be-1f041e61335a",
   "metadata": {},
   "outputs": [],
   "source": [
    "import warnings\n",
    "warnings.filterwarnings(\"ignore\")"
   ]
  },
  {
   "cell_type": "markdown",
   "id": "9edfcf4a-9784-4624-a8dc-b57bc07c73a2",
   "metadata": {},
   "source": [
    "## Optimization Algorithms"
   ]
  },
  {
   "cell_type": "code",
   "execution_count": 2,
   "id": "9d4dd747-5c4c-47d2-8d57-b2425ce30d86",
   "metadata": {},
   "outputs": [],
   "source": [
    "from keras.optimizers.legacy import SGD, Adam, RMSprop\n",
    "# from keras.optimizers import SGD, Adam, RMSprop ## use this line if you don't use M1/M2 mac\n",
    "\n",
    "# SGD optimizer\n",
    "sgd_optimizer = SGD(learning_rate=0.01, momentum=0.0)\n",
    "\n",
    "# RMSprop optimizer\n",
    "rmsprop_optimizer = RMSprop(learning_rate=0.001, rho=0.9)\n",
    "\n",
    "# Adam optimizer\n",
    "adam_optimizer = Adam(learning_rate=0.001, beta_1=0.9, beta_2=0.999)\n"
   ]
  },
  {
   "cell_type": "markdown",
   "id": "335e681c-7bf1-4f88-b70a-b03df4230bd5",
   "metadata": {},
   "source": [
    "https://github.com/keras-team/keras/tree/v3.0.5/keras/optimizers"
   ]
  },
  {
   "cell_type": "markdown",
   "id": "519e2eab-4a65-4b65-9a29-9568a9200c0a",
   "metadata": {},
   "source": [
    "### Example on MNIST Dataset"
   ]
  },
  {
   "cell_type": "code",
   "execution_count": 3,
   "id": "8515ecaa-0fa7-4f8e-bdb2-b9b8c79c58a0",
   "metadata": {},
   "outputs": [],
   "source": [
    "from keras.datasets import mnist\n",
    "from keras.utils import to_categorical\n",
    "\n",
    "# Load data\n",
    "(train_images, train_labels), (test_images, test_labels) = mnist.load_data()\n",
    "\n",
    "# Normalize the images to 0-1 range\n",
    "train_images = train_images.reshape((60000, 28 * 28)).astype('float32') / 255\n",
    "test_images = test_images.reshape((10000, 28 * 28)).astype('float32') / 255\n",
    "\n",
    "# One-hot encode labels\n",
    "train_labels = to_categorical(train_labels)\n",
    "test_labels = to_categorical(test_labels)\n"
   ]
  },
  {
   "cell_type": "code",
   "execution_count": 9,
   "id": "d191f7e0-369f-42bb-be2a-bd8d383e7f93",
   "metadata": {},
   "outputs": [],
   "source": [
    "from keras.models import Sequential\n",
    "from keras.layers import Dense\n",
    "from keras.initializers import glorot_uniform, he_normal, lecun_normal\n",
    "\n",
    "def create_model(initializer, optimizer):\n",
    "    if initializer == 'glorot_uniform':\n",
    "        activation = 'tanh'\n",
    "    elif initializer == 'he_normal':\n",
    "        activation = 'relu'\n",
    "    elif initializer == 'lecun_normal':\n",
    "        activation = 'selu'\n",
    "    else:\n",
    "        activation = 'relu'\n",
    "        \n",
    "    model = Sequential([\n",
    "        Dense(512, activation=activation, kernel_initializer=initializer, input_shape=(28 * 28,)),\n",
    "        Dense(10, activation='softmax')\n",
    "    ])\n",
    "    model.compile(optimizer=optimizer,\n",
    "                  loss='categorical_crossentropy',\n",
    "                  metrics=['accuracy'])\n",
    "    return model\n"
   ]
  },
  {
   "cell_type": "code",
   "execution_count": 10,
   "id": "d6f9c420-df56-4d58-b81a-a1fae6b5b4e4",
   "metadata": {},
   "outputs": [],
   "source": [
    "import time\n",
    "from keras.optimizers.legacy import SGD, Adam, RMSprop\n",
    "\n",
    "# Define initializers and optimizers to test\n",
    "initializers = {\n",
    "    'Glorot': 'glorot_uniform',\n",
    "    'He': 'he_normal',\n",
    "    'LeCun': 'lecun_normal'\n",
    "}\n",
    "\n",
    "optimizers = {\n",
    "    'SGD': SGD(learning_rate=0.01),\n",
    "    'Adam': Adam(learning_rate=0.001),\n",
    "    'RMSprop': RMSprop(learning_rate=0.001)\n",
    "}\n",
    "\n",
    "# Train models and measure performance\n",
    "results = {}\n",
    "for init_name, initializer in initializers.items():\n",
    "    for opt_name, optimizer in optimizers.items():\n",
    "        model = create_model(initializer, optimizer)\n",
    "        start_time = time.time()\n",
    "        history = model.fit(train_images, train_labels, epochs=5, batch_size=128, validation_data=(test_images, test_labels), verbose=0)\n",
    "        training_time = time.time() - start_time\n",
    "        test_loss, test_acc = model.evaluate(test_images, test_labels, verbose=0)\n",
    "        results[f'{init_name}_{opt_name}'] = (test_acc, training_time)\n"
   ]
  },
  {
   "cell_type": "code",
   "execution_count": 11,
   "id": "98d6bfca-f72e-4624-b355-32d346ad871a",
   "metadata": {},
   "outputs": [
    {
     "name": "stdout",
     "output_type": "stream",
     "text": [
      "Glorot_SGD - Accuracy: 0.9062, Training Time: 4.32 seconds\n",
      "Glorot_Adam - Accuracy: 0.9750, Training Time: 4.52 seconds\n",
      "Glorot_RMSprop - Accuracy: 0.9754, Training Time: 6.02 seconds\n",
      "He_SGD - Accuracy: 0.9136, Training Time: 4.12 seconds\n",
      "He_Adam - Accuracy: 0.9808, Training Time: 4.43 seconds\n",
      "He_RMSprop - Accuracy: 0.9790, Training Time: 5.77 seconds\n",
      "LeCun_SGD - Accuracy: 0.9125, Training Time: 4.73 seconds\n",
      "LeCun_Adam - Accuracy: 0.9741, Training Time: 5.01 seconds\n",
      "LeCun_RMSprop - Accuracy: 0.9706, Training Time: 6.68 seconds\n"
     ]
    }
   ],
   "source": [
    "for config, (acc, time) in results.items():\n",
    "    print(f\"{config} - Accuracy: {acc:.4f}, Training Time: {time:.2f} seconds\")\n"
   ]
  },
  {
   "cell_type": "code",
   "execution_count": null,
   "id": "378c4f6a-ddda-4e4a-a524-a505e83768f7",
   "metadata": {},
   "outputs": [],
   "source": []
  }
 ],
 "metadata": {
  "kernelspec": {
   "display_name": "Python 3 (ipykernel)",
   "language": "python",
   "name": "python3"
  },
  "language_info": {
   "codemirror_mode": {
    "name": "ipython",
    "version": 3
   },
   "file_extension": ".py",
   "mimetype": "text/x-python",
   "name": "python",
   "nbconvert_exporter": "python",
   "pygments_lexer": "ipython3",
   "version": "3.11.2"
  }
 },
 "nbformat": 4,
 "nbformat_minor": 5
}
