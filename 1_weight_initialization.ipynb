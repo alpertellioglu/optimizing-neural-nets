{
 "cells": [
  {
   "cell_type": "code",
   "execution_count": 18,
   "id": "8d4ce1d1-518f-4fb1-92af-6a4cddf0ecb0",
   "metadata": {},
   "outputs": [],
   "source": [
    "import numpy as np\n",
    "import warnings\n",
    "warnings.filterwarnings(\"ignore\")"
   ]
  },
  {
   "cell_type": "markdown",
   "id": "b027a5ca-753f-4852-b8e0-567e0b492e5e",
   "metadata": {},
   "source": [
    "## Weight Initialization Techniques"
   ]
  },
  {
   "cell_type": "code",
   "execution_count": 4,
   "id": "26feb2cc-ba19-4c6e-99df-527e2dc04a68",
   "metadata": {},
   "outputs": [],
   "source": [
    "input_size = 10\n",
    "output_size = 20"
   ]
  },
  {
   "cell_type": "code",
   "execution_count": 6,
   "id": "5f4ab605-452d-44ef-8a8d-95595ed1e500",
   "metadata": {},
   "outputs": [],
   "source": [
    "# Xavier (Glorot) Initialization\n",
    "weights_xavier = np.random.randn(input_size, output_size) * np.sqrt(2.0 / (input_size + output_size))\n",
    "\n",
    "# He (Kaiming) Initialization\n",
    "weights_he = np.random.randn(input_size, output_size) * np.sqrt(2.0 / (input_size))\n",
    "\n",
    "# LeCun Initialization\n",
    "weights_lecun = np.random.randn(input_size, output_size) * np.sqrt(1.0 / (input_size))"
   ]
  },
  {
   "cell_type": "code",
   "execution_count": 11,
   "id": "797ac7a7-bb89-4b47-8bdd-f0ee927ec6cb",
   "metadata": {
    "scrolled": true
   },
   "outputs": [
    {
     "name": "stdout",
     "output_type": "stream",
     "text": [
      "[[ 5.31003098e-01  4.58042548e-01 -2.73529938e-01 -2.13766371e-01\n",
      "   1.57348660e-01 -1.12772238e-01 -2.04605820e-01  4.00909705e-01\n",
      "  -4.06848675e-01 -3.47959976e-01 -6.81998758e-01  8.04057446e-02\n",
      "  -6.73512666e-01  1.48475941e-01  2.80972447e-01 -4.45216801e-01\n",
      "   2.76250897e-01  1.34737210e-01  1.46926088e-01 -1.98913996e-01]\n",
      " [ 3.43221815e-02  6.43246773e-02 -2.19562768e-01 -4.07626204e-03\n",
      "   7.76287541e-03  4.38070115e-01 -6.03526375e-02 -8.10009868e-02\n",
      "  -1.93736771e-02  2.62639442e-01  7.41403021e-02 -1.18138164e-04\n",
      "   4.14934409e-01  3.80684877e-01 -4.40246996e-01  3.45840774e-01\n",
      "   3.54685642e-01 -4.87342372e-01 -2.83701231e-01  4.35818478e-01]\n",
      " [ 3.71363291e-01 -6.32248640e-02 -6.45695320e-02  3.98383345e-01\n",
      "   2.76696295e-01  4.23896503e-01  7.57056849e-02  3.72210202e-01\n",
      "   5.21551591e-02 -3.69859253e-01  1.32665247e-01  2.02689084e-01\n",
      "   1.88286671e-01 -1.11657762e-01 -2.68958217e-01  1.11082423e-01\n",
      "  -2.05586970e-01 -7.09576308e-03  5.04099795e-01  4.71487753e-02]\n",
      " [-5.93183758e-02  4.61532075e-02  2.45380616e-01  1.13200269e-01\n",
      "  -5.13228792e-01  3.23393751e-01 -2.00317091e-02 -2.26279741e-01\n",
      "   9.39402629e-02 -1.54859472e-01  4.46467185e-01  2.55750981e-01\n",
      "  -1.98521452e-01 -1.26656995e-02  1.85127555e-01 -1.69076566e-01\n",
      "  -7.84187110e-03  2.95451748e-01  1.58612260e-01 -5.62473667e-02]\n",
      " [ 2.07503194e-01  2.46276413e-01 -8.96759985e-02 -9.47251449e-02\n",
      "  -1.19230301e-01 -1.99324716e-01  2.18325516e-01 -1.52201988e-01\n",
      "  -4.37350928e-02 -2.64008566e-01 -6.78846224e-02 -7.39882456e-02\n",
      "   2.62494110e-01 -1.60129775e-01 -8.36299249e-03  2.54262603e-01\n",
      "  -7.49686223e-02 -2.70585318e-01  3.10082921e-01  2.52445143e-01]\n",
      " [ 1.31666563e-01  3.97717411e-04  3.76078463e-02 -1.39006869e-01\n",
      "  -3.42066519e-01  4.10914748e-02  3.41346726e-01 -3.36046127e-01\n",
      "  -1.60736624e-02 -3.34618841e-01 -6.49475002e-01 -3.25122610e-01\n",
      "   2.07859408e-01  2.07308472e-01  2.17942294e-01  1.62387352e-01\n",
      "  -2.62844539e-03 -1.06958605e-01  1.81035939e-01 -3.19180697e-02]\n",
      " [ 2.33734016e-01 -8.15942958e-02 -3.41234270e-02 -1.01280165e-01\n",
      "  -2.82223956e-02 -1.84952954e-01 -1.02072219e-01  1.53537498e-01\n",
      "   7.01344421e-02  3.17410441e-01  1.82861602e-01 -1.74136335e-02\n",
      "  -9.11557516e-02 -3.70091292e-01  5.38630639e-02 -9.46446983e-02\n",
      "   2.53197850e-01  1.75291552e-01  1.17255896e-01  2.25088242e-01]\n",
      " [-2.57443249e-01  1.13518872e-01  2.29661884e-01 -1.12469096e-01\n",
      "  -9.04383079e-02  8.43311181e-02  2.95231869e-01 -4.02752244e-03\n",
      "   3.11357411e-01 -2.94826568e-01 -5.10726906e-01  5.68273086e-01\n",
      "  -1.48626065e-01  1.03095145e-01 -3.79393299e-01  6.14886876e-02\n",
      "   1.15214604e-01  3.17624728e-01  3.50271871e-01  6.60549838e-01]\n",
      " [ 2.05106664e-01 -3.94674803e-01  1.42896454e-01 -4.47732746e-01\n",
      "  -5.54926318e-01 -8.09108315e-02  1.05207523e-01 -3.37822026e-01\n",
      "   1.78468595e-01  3.93062393e-01  5.19217684e-01 -3.68386506e-01\n",
      "  -2.34913694e-01 -1.76897137e-01 -5.22098728e-01  9.12059052e-02\n",
      "   6.07056011e-02 -1.13779547e-01  1.70308790e-01  1.31087541e-01]\n",
      " [-2.02260375e-01  2.53505415e-01  3.28897264e-01  2.17672682e-01\n",
      "  -3.37714866e-02  2.66050375e-01 -8.37160926e-02  1.71961944e-01\n",
      "   1.69111746e-01  2.43544761e-01 -5.01237311e-01 -8.55770468e-02\n",
      "   5.48577715e-01 -1.80514801e-01 -9.39610400e-02 -1.72846467e-01\n",
      "  -2.07958272e-01 -3.41704424e-01  1.45315207e-02  4.32351704e-01]]\n"
     ]
    }
   ],
   "source": [
    "print(weights_xavier)"
   ]
  },
  {
   "cell_type": "markdown",
   "id": "a0ff5464-be28-4b44-9bb9-293f9c0561b7",
   "metadata": {},
   "source": [
    "### Weight Initialization Using Keras"
   ]
  },
  {
   "cell_type": "code",
   "execution_count": 13,
   "id": "2abcb324-1c58-40af-8302-2d278537bd1f",
   "metadata": {},
   "outputs": [],
   "source": [
    "from keras.models import Sequential\n",
    "from keras.layers import Dense\n",
    "from keras.initializers import glorot_uniform, he_normal, lecun_normal\n",
    "\n",
    "# Example using Xavier (Glorot) initialization\n",
    "model_glorot = Sequential([\n",
    "    Dense(64, activation='tanh', kernel_initializer=glorot_uniform(), input_shape=(784,)),\n",
    "    Dense(10, activation='softmax')\n",
    "])\n",
    "\n",
    "# Example using He initialization\n",
    "model_he = Sequential([\n",
    "    Dense(64, activation='relu', kernel_initializer=he_normal(), input_shape=(784,)),\n",
    "    Dense(10, activation='softmax')\n",
    "])\n",
    "\n",
    "# Example using LeCun initialization\n",
    "model_lecun = Sequential([\n",
    "    Dense(64, activation='selu', kernel_initializer=lecun_normal(), input_shape=(784,)),\n",
    "    Dense(10, activation='softmax')\n",
    "])"
   ]
  },
  {
   "cell_type": "markdown",
   "id": "bcd053a3-de82-463e-98d3-4b89dbe81373",
   "metadata": {},
   "source": [
    "https://keras.io/api/layers/initializers/#available-initializers"
   ]
  },
  {
   "cell_type": "code",
   "execution_count": null,
   "id": "9b235011-10ff-45db-a42a-9e43efbe252c",
   "metadata": {},
   "outputs": [],
   "source": []
  }
 ],
 "metadata": {
  "kernelspec": {
   "display_name": "Python 3 (ipykernel)",
   "language": "python",
   "name": "python3"
  },
  "language_info": {
   "codemirror_mode": {
    "name": "ipython",
    "version": 3
   },
   "file_extension": ".py",
   "mimetype": "text/x-python",
   "name": "python",
   "nbconvert_exporter": "python",
   "pygments_lexer": "ipython3",
   "version": "3.11.2"
  }
 },
 "nbformat": 4,
 "nbformat_minor": 5
}
